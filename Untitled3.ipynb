{
 "cells": [
  {
   "cell_type": "code",
   "execution_count": 7,
   "id": "9f047418-fe8c-43d6-9345-a46323660d80",
   "metadata": {},
   "outputs": [
    {
     "name": "stdout",
     "output_type": "stream",
     "text": [
      "Original Array X:\n",
      " [[0.30065625 0.60023913 0.14793472 0.72524659 0.15424516]\n",
      " [0.2607788  0.08859197 0.86774054 0.14637577 0.57779087]\n",
      " [0.88126654 0.90744119 0.99341122 0.02654174 0.22661275]\n",
      " [0.06010062 0.61118651 0.2638244  0.23095271 0.9591042 ]\n",
      " [0.16611036 0.92731219 0.35652332 0.40949555 0.72610148]]\n",
      "Mean of X: 0.4646233830888069\n",
      "Standard Deviation of X: 0.3211274775778102\n",
      "Normalized Array X_normalized:\n",
      " [[-0.51059827  0.42231124 -0.9861774   0.81158801 -0.96652651]\n",
      " [-0.63477777 -1.17097241  1.25531816 -0.99103201  0.35240673]\n",
      " [ 1.29743852  1.3789471   1.64666021 -1.36419857 -0.74117182]\n",
      " [-1.25969528  0.4564017  -0.62529367 -0.72765706  1.53982718]\n",
      " [-0.92957795  1.44082596 -0.33662663 -0.17166962  0.81425014]]\n",
      "X_normalized.npy has been saved.\n"
     ]
    }
   ],
   "source": [
    "import numpy as np\n",
    "\n",
    "\n",
    "X = np.random.rand(5, 5)\n",
    "print(\"Original Array X:\\n\", X)\n",
    "\n",
    "\n",
    "mean_X = X.mean()\n",
    "std_X = X.std()\n",
    "\n",
    "print(\"Mean of X:\", mean_X)\n",
    "print(\"Standard Deviation of X:\", std_X)\n",
    "\n",
    "\n",
    "X_normalized = (X - mean_X) / std_X\n",
    "print(\"Normalized Array X_normalized:\\n\", X_normalized)\n",
    "\n",
    "\n",
    "np.save('X_normalized.npy', X_normalized)\n",
    "print(\"X_normalized.npy has been saved.\")"
   ]
  },
  {
   "cell_type": "code",
   "execution_count": 9,
   "id": "1431ed24-5aa7-4baa-abbd-c34af8ff8e28",
   "metadata": {},
   "outputs": [
    {
     "name": "stdout",
     "output_type": "stream",
     "text": [
      "Array A (Squares of the first 100 positive integers):\n",
      " [[    1     4     9    16    25    36    49    64    81   100]\n",
      " [  121   144   169   196   225   256   289   324   361   400]\n",
      " [  441   484   529   576   625   676   729   784   841   900]\n",
      " [  961  1024  1089  1156  1225  1296  1369  1444  1521  1600]\n",
      " [ 1681  1764  1849  1936  2025  2116  2209  2304  2401  2500]\n",
      " [ 2601  2704  2809  2916  3025  3136  3249  3364  3481  3600]\n",
      " [ 3721  3844  3969  4096  4225  4356  4489  4624  4761  4900]\n",
      " [ 5041  5184  5329  5476  5625  5776  5929  6084  6241  6400]\n",
      " [ 6561  6724  6889  7056  7225  7396  7569  7744  7921  8100]\n",
      " [ 8281  8464  8649  8836  9025  9216  9409  9604  9801 10000]]\n",
      "Elements of A divisible by 3:\n",
      " [   9   36   81  144  225  324  441  576  729  900 1089 1296 1521 1764\n",
      " 2025 2304 2601 2916 3249 3600 3969 4356 4761 5184 5625 6084 6561 7056\n",
      " 7569 8100 8649 9216 9801]\n",
      "div_by_3.npy has been saved.\n"
     ]
    }
   ],
   "source": [
    "import numpy as np\n",
    "\n",
    "# Step 1: Create a 10x10 ndarray with squares of the first 100 positive integers\n",
    "A = np.arange(1, 101) ** 2\n",
    "A = A.reshape(10, 10)\n",
    "print(\"Array A (Squares of the first 100 positive integers):\\n\", A)\n",
    "\n",
    "# Step 2: Determine elements divisible by 3\n",
    "div_by_3 = A[A % 3 == 0]\n",
    "print(\"Elements of A divisible by 3:\\n\", div_by_3)\n",
    "\n",
    "# Step 3: Save the result as div_by_3.npy\n",
    "np.save('div_by_3.npy', div_by_3)\n",
    "print(\"div_by_3.npy has been saved.\")\n"
   ]
  },
  {
   "cell_type": "code",
   "execution_count": null,
   "id": "e49c2069-e690-4664-8119-89bd2d5bb2d0",
   "metadata": {},
   "outputs": [],
   "source": []
  }
 ],
 "metadata": {
  "kernelspec": {
   "display_name": "Python 3 (ipykernel)",
   "language": "python",
   "name": "python3"
  },
  "language_info": {
   "codemirror_mode": {
    "name": "ipython",
    "version": 3
   },
   "file_extension": ".py",
   "mimetype": "text/x-python",
   "name": "python",
   "nbconvert_exporter": "python",
   "pygments_lexer": "ipython3",
   "version": "3.12.4"
  }
 },
 "nbformat": 4,
 "nbformat_minor": 5
}
